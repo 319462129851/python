{
 "cells": [
  {
   "cell_type": "code",
   "execution_count": 4,
   "metadata": {},
   "outputs": [
    {
     "data": {
      "text/plain": [
       "3"
      ]
     },
     "execution_count": 4,
     "metadata": {},
     "output_type": "execute_result"
    }
   ],
   "source": [
    "filepath=\"./files/test.txt\"\n",
    "f=open(filepath,'w')\n",
    "f.write(\"vvk\")\n",
    "filepath=\"./files/test1.txt\"\n",
    "f=open(filepath,'w')\n",
    "f.write(\"vnk\")"
   ]
  },
  {
   "cell_type": "code",
   "execution_count": 7,
   "metadata": {},
   "outputs": [],
   "source": [
    "filepath=\"./files/test2.txt\"\n",
    "with open(filepath,'w') as f:\n",
    "    f.write(\"vvk\")\n",
    "filepath=\"./files/test3.txt\"\n",
    "with open(filepath,'w') as f:\n",
    "    f.write(\"vnk\")"
   ]
  },
  {
   "cell_type": "code",
   "execution_count": 8,
   "metadata": {
    "scrolled": true
   },
   "outputs": [
    {
     "ename": "IndentationError",
     "evalue": "expected an indented block (<ipython-input-8-7b4a9126ffb3>, line 9)",
     "output_type": "error",
     "traceback": [
      "\u001b[1;36m  File \u001b[1;32m\"<ipython-input-8-7b4a9126ffb3>\"\u001b[1;36m, line \u001b[1;32m9\u001b[0m\n\u001b[1;33m    if (sh==eh):\u001b[0m\n\u001b[1;37m     ^\u001b[0m\n\u001b[1;31mIndentationError\u001b[0m\u001b[1;31m:\u001b[0m expected an indented block\n"
     ]
    }
   ],
   "source": [
    "t=int(input(\"test case\"))\n",
    "for i in range(t):\n",
    "    n=input().split()\n",
    "    sh=int(n[0])\n",
    "    sm=int(n[1])\n",
    "    eh=int(n[2])\n",
    "    em=int(n[3])\n",
    "    if((eh and sh<=24) and (em and sm<=60)):\n",
    "    if (sh==eh):\n",
    "        a=eh-sh\n",
    "        b=abs(em-sm)\n",
    "        print(a,b)\n",
    "    elif (sm==em):\n",
    "        a=eh-sh\n",
    "        b=abs(em-sm)\n",
    "        print(a,b)\n",
    "    else:\n",
    "        a=(eh-1)-sh\n",
    "        b=abs(em-sm)\n",
    "        print(a,b)\n",
    "    \n",
    "    else:\n",
    "        print(\"invalid input\")"
   ]
  },
  {
   "cell_type": "code",
   "execution_count": null,
   "metadata": {},
   "outputs": [],
   "source": [
    "n=int(input())\n",
    "for i in range(n):\n",
    "    time=list(map(int,input().split()))\n",
    "    sh=time[0]\n",
    "    sm=time[1]\n",
    "    eh=time[2]\n",
    "    em=time[3]\n",
    "    h=0"
   ]
  }
 ],
 "metadata": {
  "kernelspec": {
   "display_name": "Python 3",
   "language": "python",
   "name": "python3"
  }
 },
 "nbformat": 4,
 "nbformat_minor": 2
}
