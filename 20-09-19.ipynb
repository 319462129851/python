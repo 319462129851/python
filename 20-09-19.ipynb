{
 "cells": [
  {
   "cell_type": "markdown",
   "metadata": {},
   "source": [
    "### match sticks programmes."
   ]
  },
  {
   "cell_type": "code",
   "execution_count": 22,
   "metadata": {},
   "outputs": [
    {
     "name": "stdout",
     "output_type": "stream",
     "text": [
      "9\n",
      "6\n"
     ]
    }
   ],
   "source": [
    "d={0:6,1:2,2:5,3:5,4:4,5:5,6:6,7:3,8:7,9:6}\n",
    "n=input()\n",
    "print(d[int(n)])"
   ]
  },
  {
   "cell_type": "code",
   "execution_count": 2,
   "metadata": {},
   "outputs": [
    {
     "name": "stdout",
     "output_type": "stream",
     "text": [
      "123\n",
      "12\n"
     ]
    }
   ],
   "source": [
    "d={0:6,1:2,2:5,3:5,4:4,5:5,6:6,7:3,8:7,9:6}\n",
    "n=input()\n",
    "c=0\n",
    "for i in n:\n",
    "    c=c+d[int(i)]\n",
    "print(c)"
   ]
  },
  {
   "cell_type": "code",
   "execution_count": 17,
   "metadata": {},
   "outputs": [
    {
     "name": "stdout",
     "output_type": "stream",
     "text": [
      "1\n",
      "2\n",
      "11\n"
     ]
    }
   ],
   "source": [
    "d={0:6,1:2,2:5,3:5,4:4,5:5,6:6,7:3,8:7,9:6}\n",
    "n=(input())\n",
    "c=0\n",
    "for i in n:\n",
    "    c=c+d[int(i)]\n",
    "print(c)\n",
    "if c%2==0:\n",
    "    print(\"1\"*c)\n",
    "else:\n",
    "    print(\"7\"+\"1\"*(c-1))\n",
    "    "
   ]
  },
  {
   "cell_type": "code",
   "execution_count": 23,
   "metadata": {},
   "outputs": [
    {
     "name": "stdout",
     "output_type": "stream",
     "text": [
      "12\n",
      "7\n",
      "711\n"
     ]
    }
   ],
   "source": [
    "d={0:6,1:2,2:5,3:5,4:4,5:5,6:6,7:3,8:7,9:6}\n",
    "n=(input())\n",
    "c=0\n",
    "for i in n:\n",
    "    c=c+d[int(i)]\n",
    "print(c)\n",
    "if c%2==0:\n",
    "    print(\"1\"*(c//2))\n",
    "else:\n",
    "    print(\"7\"+\"1\"*((c//2)-1))"
   ]
  },
  {
   "cell_type": "code",
   "execution_count": 29,
   "metadata": {},
   "outputs": [
    {
     "name": "stdout",
     "output_type": "stream",
     "text": [
      "1401601499\n",
      "253\n",
      "legal\n"
     ]
    }
   ],
   "source": [
    "k=input()\n",
    "sum=0\n",
    "n=1\n",
    "for i in k:\n",
    "    i=int(i)\n",
    "    sum=sum+(i*n)\n",
    "    n=n+1\n",
    "print(sum)\n",
    "sum=(sum%11)\n",
    "if sum==0:\n",
    "    print(\"Legal\")\n",
    "else:\n",
    "    print(\"Illegal\")\n"
   ]
  },
  {
   "cell_type": "code",
   "execution_count": null,
   "metadata": {},
   "outputs": [],
   "source": [
    "filepath=./files"
   ]
  }
 ],
 "metadata": {
  "kernelspec": {
   "display_name": "Python 3",
   "language": "python",
   "name": "python3"
  },
  "language_info": {
   "codemirror_mode": {
    "name": "ipython",
    "version": 3
   },
   "file_extension": ".py",
   "mimetype": "text/x-python",
   "name": "python",
   "nbconvert_exporter": "python",
   "pygments_lexer": "ipython3",
   "version": "3.7.3"
  }
 },
 "nbformat": 4,
 "nbformat_minor": 2
}
